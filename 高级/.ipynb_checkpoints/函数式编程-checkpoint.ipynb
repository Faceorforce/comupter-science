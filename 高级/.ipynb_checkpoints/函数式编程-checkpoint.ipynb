{
 "cells": [
  {
   "cell_type": "markdown",
   "metadata": {
    "collapsed": true
   },
   "source": [
    "## 函数式编程\n",
    "- 基于lambda演算的一种编程方式\n",
    "  - 程序中只有函数\n",
    "  - 函数可以作为参数,同样可以作为返回值\n",
    "  - 纯函数式编程:lisp  haskell\n",
    "  - \n",
    "- Python函数式编程只是借鉴函数是编程的一些特点,可以理解成一半函数式一半Python\n",
    " - 高阶函数\n",
    " - 返回函数\n",
    " - 匿名函数\n",
    " - 装饰器\n",
    " - 偏函数\n",
    " "
   ]
  },
  {
   "cell_type": "markdown",
   "metadata": {},
   "source": [
    "# lambda表达式\n",
    "- 函数:最大程度复用代码\n",
    "    - 存在问题:如果函数很小很短,则会造成啰嗦\n",
    "    - 如果函数被调用次数少,则会造成浪费\n",
    "    - 对于阅读者来书,造成阅读流程被迫中断\n",
    "    \n",
    "- lambda表达式(匿名函数)\n",
    "    - 一个表达式,函数体相对简单\n",
    "    - 不是一个代码块,仅仅是一个表达式\n",
    "    - 可以有参数,有多个参数也可以用逗号隔开"
   ]
  },
  {
   "cell_type": "code",
   "execution_count": 1,
   "metadata": {},
   "outputs": [
    {
     "data": {
      "text/plain": [
       "8900"
      ]
     },
     "execution_count": 1,
     "metadata": {},
     "output_type": "execute_result"
    }
   ],
   "source": [
    "# lambda 表达式\n",
    "# 以lambda开头\n",
    "# 紧跟一定的参数\n",
    "# 参数后用冒号和表达式主题隔开\n",
    "#只是一个表达式所以没有return\n",
    "\n",
    "# 计算一个数字的100倍数\n",
    "#因为就是一个表达式,所以没有return\n",
    "stm = lambda x: 100 * x\n",
    "stm(89)"
   ]
  },
  {
   "cell_type": "markdown",
   "metadata": {},
   "source": [
    "## 高阶函数\n",
    "- 把函数作为参数使用的函数,叫高阶参数\n"
   ]
  },
  {
   "cell_type": "code",
   "execution_count": 4,
   "metadata": {},
   "outputs": [
    {
     "name": "stdout",
     "output_type": "stream",
     "text": [
      "in funA\n"
     ]
    }
   ],
   "source": [
    "# 变量可以赋值\n",
    "#函数名称就是一个变量\n",
    "def funA():\n",
    "    print(\"in funA\")\n",
    "    \n",
    "funB = funA\n",
    "funB()\n",
    " \n"
   ]
  },
  {
   "cell_type": "markdown",
   "metadata": {},
   "source": [
    "## 结论\n",
    "- 函数名称是变量\n",
    "- funB和funA只是名称不一样\n",
    "- 既然函数名称是变量,则应该可以被当做参数传入到另一个参数传入另一个参数"
   ]
  },
  {
   "cell_type": "code",
   "execution_count": 9,
   "metadata": {},
   "outputs": [
    {
     "name": "stdout",
     "output_type": "stream",
     "text": [
      "2700\n",
      "2700\n"
     ]
    }
   ],
   "source": [
    "# 高阶参数举例\n",
    "#funA是普通参数,返回一个传入数字的100的数字\n",
    "\n",
    "def funA(n):\n",
    "    return n * 100\n",
    "def funB(n):\n",
    "    return funA(n) * 3\n",
    "\n",
    "print(funB(9))\n",
    "\n",
    "def funC(n,f):\n",
    "    return f(n) * 3\n",
    "print(funC(9,funA))\n",
    "# 比较funC和funB,funC的写法优于funB"
   ]
  },
  {
   "cell_type": "markdown",
   "metadata": {},
   "source": [
    "## 系统高阶函数-map\n",
    "- 原意就是映射,即把集合或者列表的元素,每一个元素啥都按照一定的规则进行操作,生成一个行的列表地或者集合\n",
    "- map函数是系统提供的具有映射函数功能的函数,返回值是一个迭迭代对象"
   ]
  },
  {
   "cell_type": "markdown",
   "metadata": {},
   "source": [
    "# reduce\n",
    "- 原意是归并,缩减\n",
    "- 把一个可迭代的对象最后归并成一个结果\n",
    "- 但对于作为参数的函数的要求:必须由两个参数,必须返回结果\n",
    "- reduce需要导入functools包\n"
   ]
  },
  {
   "cell_type": "code",
   "execution_count": 13,
   "metadata": {},
   "outputs": [
    {
     "name": "stdout",
     "output_type": "stream",
     "text": [
      "21\n"
     ]
    }
   ],
   "source": [
    "from functools import reduce\n",
    "\n",
    "\n",
    "def myAdd(x,y):\n",
    "    return x + y\n",
    "\n",
    "# 对于列表[1,2,3,4,5,6]执行myAdd的reduce操作\n",
    "rst = reduce(myAdd,[1,2,3,4,5,6])\n",
    "print(rst)\n"
   ]
  },
  {
   "cell_type": "markdown",
   "metadata": {},
   "source": [
    "## filter函数\n",
    "- 过滤函数:对一组数据进行过滤,符合条件的数据会生成一个新的列表并返回\n",
    "- 和map相比较:\n",
    "  - 相同:都对列表的每一个元素注意进行操作\n",
    "  - 不同:\n",
    "     - map会生成一个和原来数据相对应的新队列\n",
    "     - filter不一定,只要符合条件的才会进入新的数据集合\n",
    "  - filter函数格式\n",
    "     - 利用给定函数进行判断\n",
    "     - 返回值一定是布尔值\n",
    "     - 调用格式:filter(f,data),f是过滤函数,data是数据\n",
    "     "
   ]
  },
  {
   "cell_type": "code",
   "execution_count": 14,
   "metadata": {},
   "outputs": [
    {
     "name": "stdout",
     "output_type": "stream",
     "text": [
      "<class 'filter'>\n",
      "<filter object at 0x7f1664471a20>\n",
      "[4, 56, 2, 776, 5434, 888, 978]\n"
     ]
    }
   ],
   "source": [
    "# filter案例\n",
    "# 对于一个列表,对其进行过滤,偶数组成一个新列表\n",
    "\n",
    "def isEven(a):\n",
    "    return a % 2 == 0\n",
    "l = [3,4,56,2,3,55667,776,65,5434,888,978]\n",
    "\n",
    "rst = filter(isEven,l)\n",
    "# 返回的filter内容是一个可迭代对象\n",
    "print(type(rst))\n",
    "print(rst)\n",
    "\n",
    "print([i for i in rst])"
   ]
  },
  {
   "cell_type": "markdown",
   "metadata": {},
   "source": [
    "## 高阶函数排序\n",
    "- 把一个序列按照给定算法进行排序\n",
    "- key:在排序前对每一个元素进行key函数运算\n"
   ]
  },
  {
   "cell_type": "code",
   "execution_count": 16,
   "metadata": {},
   "outputs": [
    {
     "name": "stdout",
     "output_type": "stream",
     "text": [
      "[-5677, -5437, 1324, -123, 122, 89, 53, -23]\n"
     ]
    }
   ],
   "source": [
    "# 排序案例\n",
    "# abs是求绝对值\n",
    "#按照绝对值的倒序排列\n",
    "a = [-123,1324,-5677,53,89,-5437,122,-23]\n",
    "al = sorted(a,key=abs,reverse=True)\n",
    "print(al)"
   ]
  },
  {
   "cell_type": "markdown",
   "metadata": {},
   "source": [
    "##  返回函数\n",
    "- 函数可以返回具体的值\n",
    "- 也可以返回一个函数作为结果\n"
   ]
  },
  {
   "cell_type": "code",
   "execution_count": 20,
   "metadata": {
    "collapsed": true
   },
   "outputs": [],
   "source": [
    "# 返回函数的例子\n",
    "# args参数列表\n",
    "# myf4定义函数,返回是内部定义函数myf5\n",
    "# myf5使用了外部变量,这个变量是myf4的参数\n",
    "def myF4(*args):\n",
    "    def myF5():\n",
    "        rst = 0\n",
    "        for n in args:\n",
    "            rst += n\n",
    "        return rst\n",
    "    return myF5\n",
    "    "
   ]
  },
  {
   "cell_type": "code",
   "execution_count": 22,
   "metadata": {},
   "outputs": [
    {
     "data": {
      "text/plain": [
       "45"
      ]
     },
     "execution_count": 22,
     "metadata": {},
     "output_type": "execute_result"
    }
   ],
   "source": [
    "F5 = myF4(1,2,3,4,5,6,7,8,9,0)\n",
    "F5()"
   ]
  },
  {
   "cell_type": "code",
   "execution_count": 25,
   "metadata": {},
   "outputs": [
    {
     "data": {
      "text/plain": [
       "1491"
      ]
     },
     "execution_count": 25,
     "metadata": {},
     "output_type": "execute_result"
    }
   ],
   "source": [
    "f6 = myF4(12,14,567,898)\n",
    "f6()"
   ]
  },
  {
   "cell_type": "markdown",
   "metadata": {},
   "source": [
    "## 闭包(closure)\n",
    "- 当一个函数在内部定义函数,并且内部函数应用外部函数的参数或者局部变量,当内部函数被当做返回值的时候,相关参数和变量保存在返回的函数中,这种结果叫做闭包\n",
    "- 上面myF4是一个标准的闭包结构"
   ]
  },
  {
   "cell_type": "markdown",
   "metadata": {},
   "source": [
    "## 装饰器(Decrator)\n",
    "- 在不改动函数代码的基础上无限扩展函数功能的一种机制,本质上讲,装饰器是一个返回函数的高阶函数\n",
    "- 装饰器的使用:使用@语法,即在每次要扩展到函数定义前使用@+函数名"
   ]
  },
  {
   "cell_type": "code",
   "execution_count": 33,
   "metadata": {
    "collapsed": true
   },
   "outputs": [],
   "source": [
    "import time\n",
    "# 对hello进行功能扩展,妹子执行hello打印当前时间\n",
    "def printTime(f):\n",
    "    def wrapper(*args,**kwargs):\n",
    "        print(\"time:\",time.ctime())\n",
    "        return f(*args,**kwargs)\n",
    "    return wrapper"
   ]
  },
  {
   "cell_type": "code",
   "execution_count": 35,
   "metadata": {},
   "outputs": [
    {
     "name": "stdout",
     "output_type": "stream",
     "text": [
      "time: Tue May 21 19:00:50 2019\n",
      "hello world\n"
     ]
    }
   ],
   "source": [
    "# 上面定义了装饰器,使用的时候需要用到@,此符号是python的语法糖'\n",
    "@printTime\n",
    "def hello():\n",
    "    print(\"hello world\")\n",
    "    \n",
    "hello()"
   ]
  },
  {
   "cell_type": "code",
   "execution_count": 38,
   "metadata": {},
   "outputs": [
    {
     "name": "stdout",
     "output_type": "stream",
     "text": [
      "手动执行\n",
      "time: Tue May 21 19:02:11 2019\n",
      "手动执行\n"
     ]
    }
   ],
   "source": [
    "# 手动执行装饰器\n",
    "def hello3():\n",
    "    print(\"手动执行\")\n",
    "    \n",
    "hello3()\n",
    "\n",
    "hello3 = printTime(hello3)\n",
    "hello3()\n",
    "\n"
   ]
  },
  {
   "cell_type": "markdown",
   "metadata": {},
   "source": [
    "## 偏函数\n",
    "- 参数固定的函数,相当于把一个右特定参数的杉树提\n",
    "- functools.partial的作用是把一个函数的,某些参数固定,返回一个新函数"
   ]
  },
  {
   "cell_type": "code",
   "execution_count": 1,
   "metadata": {},
   "outputs": [
    {
     "data": {
      "text/plain": [
       "5349"
      ]
     },
     "execution_count": 1,
     "metadata": {},
     "output_type": "execute_result"
    }
   ],
   "source": [
    "# 把字符串转化成十进制数字\n",
    "int(\"12345\")\n",
    "int(\"12345\",base=8)"
   ]
  },
  {
   "cell_type": "code",
   "execution_count": 2,
   "metadata": {},
   "outputs": [
    {
     "data": {
      "text/plain": [
       "74565"
      ]
     },
     "execution_count": 2,
     "metadata": {},
     "output_type": "execute_result"
    }
   ],
   "source": [
    "import functools\n",
    "int16 = functools.partial(int,base=16)\n",
    "\n",
    "int16(\"12345\")\n"
   ]
  },
  {
   "cell_type": "markdown",
   "metadata": {
    "collapsed": true
   },
   "source": [
    "# 补充高级函数\n",
    "# zip\n",
    "- 把两个可迭代内容生成一个可迭代tuple元素类型组成的内容\n",
    "\n"
   ]
  },
  {
   "cell_type": "code",
   "execution_count": 5,
   "metadata": {},
   "outputs": [
    {
     "name": "stdout",
     "output_type": "stream",
     "text": [
      "<class 'zip'>\n",
      "<zip object at 0x7f8124b44588>\n",
      "(1, 11)\n",
      "(2, 22)\n",
      "(3, 33)\n",
      "(4, 44)\n",
      "(5, 55)\n"
     ]
    }
   ],
   "source": [
    "l1 = [1,2,3,4,5]\n",
    "l2 = [11,22,33,44,55]\n",
    "\n",
    "\n",
    "z = zip(l1,l2)\n",
    "print(type(z))\n",
    "print(z)\n",
    "\n",
    "for i in z:\n",
    "    print(i)"
   ]
  },
  {
   "cell_type": "code",
   "execution_count": 6,
   "metadata": {},
   "outputs": [
    {
     "name": "stdout",
     "output_type": "stream",
     "text": [
      "('wangwang', 89)\n",
      "('ningyue', 66)\n",
      "('yyt', 56)\n",
      "[]\n"
     ]
    }
   ],
   "source": [
    "l1 = [\"wangwang\",\"ningyue\",\"yyt\"]\n",
    "l2 = [89,66,56]\n",
    "\n",
    "z =zip(l1,l2)\n",
    "\n",
    "for i in z:\n",
    "    print(i)\n",
    "    \n",
    "l3 = [i for i in z]\n",
    "print(l3)\n"
   ]
  },
  {
   "cell_type": "markdown",
   "metadata": {
    "collapsed": true
   },
   "source": [
    "# enumerate\n",
    "- 和zip功能比较像\n",
    "- 最可迭代对象的每一元素,配上一个索引,然后索引和内容构成tuple类型\n"
   ]
  },
  {
   "cell_type": "markdown",
   "metadata": {},
   "source": [
    "# collection模块\n",
    "- namedtuple\n",
    "- deque\n"
   ]
  },
  {
   "cell_type": "markdown",
   "metadata": {},
   "source": [
    "# namedtuple\n",
    "- tuple类型\n",
    "- 一个可命名的tuple\n"
   ]
  },
  {
   "cell_type": "code",
   "execution_count": 7,
   "metadata": {},
   "outputs": [
    {
     "name": "stdout",
     "output_type": "stream",
     "text": [
      "11\n",
      "11\n"
     ]
    }
   ],
   "source": [
    "import collections\n",
    "Point = collections.namedtuple(\"Point\",['x','y'])\n",
    "P = Point(11,22)\n",
    "print(P.x)\n",
    "print(P[0])"
   ]
  },
  {
   "cell_type": "markdown",
   "metadata": {},
   "source": [
    "# dequeue\n",
    "- 比较方便的解决了频繁删除插入带来的效率问题\n"
   ]
  },
  {
   "cell_type": "code",
   "execution_count": 10,
   "metadata": {},
   "outputs": [
    {
     "name": "stdout",
     "output_type": "stream",
     "text": [
      "deque(['a', 'b', 'c'])\n",
      "deque(['a', 'b', 'c', 'd'])\n",
      "deque(['x', 'a', 'b', 'c', 'd'])\n"
     ]
    }
   ],
   "source": [
    "from collections import deque\n",
    "\n",
    "q = deque(['a','b','c'])\n",
    "print(q)\n",
    "\n",
    "q.append(\"d\")\n",
    "print(q)\n",
    "\n",
    "q.appendleft('x')\n",
    "print(q)\n",
    "\n"
   ]
  },
  {
   "cell_type": "markdown",
   "metadata": {},
   "source": [
    "# defaultdict\n",
    "- 当直接读取dict不存在的属性时,直接返回默认值\n"
   ]
  },
  {
   "cell_type": "code",
   "execution_count": 13,
   "metadata": {},
   "outputs": [
    {
     "name": "stdout",
     "output_type": "stream",
     "text": [
      "1\n",
      "lianghao\n"
     ]
    }
   ],
   "source": [
    "from collections import defaultdict\n",
    "\n",
    "func = lambda:\"lianghao\"\n",
    "d2 = defaultdict(func)\n",
    "\n",
    "\n",
    "d2[\"one\"] = 1\n",
    "d2[\"two\"] = 2\n",
    "\n",
    "print(d2['one'])\n",
    "print(d2['four'])"
   ]
  },
  {
   "cell_type": "markdown",
   "metadata": {},
   "source": [
    "# Counter\n",
    "- 统计字符串个数"
   ]
  },
  {
   "cell_type": "code",
   "execution_count": 17,
   "metadata": {},
   "outputs": [
    {
     "name": "stdout",
     "output_type": "stream",
     "text": [
      "Counter({'a': 3, 's': 3, 'c': 2, 'r': 2, 'f': 1, 't': 1})\n"
     ]
    }
   ],
   "source": [
    "from collections import Counter\n",
    "\n",
    "c = Counter(\"asssaaccrfrt\")\n",
    "print(c)\n"
   ]
  },
  {
   "cell_type": "code",
   "execution_count": null,
   "metadata": {
    "collapsed": true
   },
   "outputs": [],
   "source": []
  },
  {
   "cell_type": "code",
   "execution_count": null,
   "metadata": {
    "collapsed": true
   },
   "outputs": [],
   "source": []
  },
  {
   "cell_type": "code",
   "execution_count": null,
   "metadata": {
    "collapsed": true
   },
   "outputs": [],
   "source": []
  },
  {
   "cell_type": "code",
   "execution_count": null,
   "metadata": {
    "collapsed": true
   },
   "outputs": [],
   "source": []
  },
  {
   "cell_type": "code",
   "execution_count": null,
   "metadata": {
    "collapsed": true
   },
   "outputs": [],
   "source": [
    "\n"
   ]
  },
  {
   "cell_type": "code",
   "execution_count": null,
   "metadata": {
    "collapsed": true
   },
   "outputs": [],
   "source": []
  },
  {
   "cell_type": "code",
   "execution_count": null,
   "metadata": {
    "collapsed": true
   },
   "outputs": [],
   "source": []
  },
  {
   "cell_type": "code",
   "execution_count": null,
   "metadata": {
    "collapsed": true
   },
   "outputs": [],
   "source": []
  },
  {
   "cell_type": "code",
   "execution_count": null,
   "metadata": {
    "collapsed": true
   },
   "outputs": [],
   "source": []
  }
 ],
 "metadata": {
  "kernelspec": {
   "display_name": "Python 3",
   "language": "python",
   "name": "python3"
  },
  "language_info": {
   "codemirror_mode": {
    "name": "ipython",
    "version": 3
   },
   "file_extension": ".py",
   "mimetype": "text/x-python",
   "name": "python",
   "nbconvert_exporter": "python",
   "pygments_lexer": "ipython3",
   "version": "3.6.3"
  }
 },
 "nbformat": 4,
 "nbformat_minor": 2
}
