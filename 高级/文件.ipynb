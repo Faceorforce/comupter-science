{
 "cells": [
  {
   "cell_type": "markdown",
   "metadata": {},
   "source": [
    "# 文件\n",
    "- 长久保存信息到的一种新数据信息集合\n",
    "- 常用操作:打开关闭   查找读写   \n",
    "# open函数\n",
    "- open函数负责打开文件,带有很多参数\n",
    "- 第一个参数:必须有文件的路径名称\n",
    "- mode:表明文件用什么方式打开\n",
    "  - r:以只读方式打开\n",
    "  - w:写方式打开,会覆盖以前的内容\n",
    "  - x:创建方式打开,如文件已经存在,报错\n",
    "  - a:append方式,以追加方式对文件内容进行写入\n",
    "  - b:binary方式,二进制方式加入\n",
    "  - t:文本方式打开\n",
    "  - +:可读写"
   ]
  },
  {
   "cell_type": "code",
   "execution_count": 1,
   "metadata": {
    "collapsed": true
   },
   "outputs": [],
   "source": [
    "# f称之为文件句柄\n",
    "#r表示后面的字符串不需要转义\n",
    "f = open(r\"test01.txt\",'w')\n",
    "# 文件打开后必须关闭\n",
    "f.close()"
   ]
  },
  {
   "cell_type": "markdown",
   "metadata": {},
   "source": [
    "# with语句\n",
    "- with语句使用的技术是一种成为上下文管理协议的技术\n",
    "- 自动判断文件的作用域,自动关闭不在使用的打开的文件句柄\n"
   ]
  },
  {
   "cell_type": "markdown",
   "metadata": {},
   "source": [
    "# seek(offset,from)\n",
    "- 移动位置的读取位置,也叫读取指针\n",
    "- from的取值范围:\n",
    "  - 0从文件头开始偏移\n",
    "  - 1 从文件当前位置开始偏移\n",
    "  - 2 从文件末尾开始偏移\n",
    "- 移动单位是字节(byte)\n",
    "- 一个汉字由若干个字节构成\n",
    "- 返回文件只针对当前位置"
   ]
  },
  {
   "cell_type": "code",
   "execution_count": 12,
   "metadata": {},
   "outputs": [
    {
     "name": "stdout",
     "output_type": "stream",
     "text": [
      "假若他\n",
      "日相逢\n",
      "\n",
      "我将\n",
      "何以贺\n",
      "你\n",
      "以\n",
      "沉默\n",
      "\n",
      "以眼泪\n"
     ]
    }
   ],
   "source": [
    "import time\n",
    "\n",
    "with open(r'test01.txt', 'r') as f:\n",
    "    strChar = f.read(3)\n",
    "    while strChar:\n",
    "        print(strChar)\n",
    "        #sleep参数单位是秒\n",
    "        time.sleep(1)\n",
    "        strChar = f.read(3)\n",
    "        \n",
    " "
   ]
  },
  {
   "cell_type": "code",
   "execution_count": 15,
   "metadata": {},
   "outputs": [
    {
     "name": "stdout",
     "output_type": "stream",
     "text": [
      "9\n",
      "假若他\n",
      "18\n",
      "日相逢\n",
      "25\n",
      "\n",
      "我将\n",
      "34\n",
      "何以贺\n",
      "41\n",
      "你\n",
      "以\n",
      "48\n",
      "沉默\n",
      "\n",
      "57\n",
      "以眼泪\n"
     ]
    }
   ],
   "source": [
    "# tell 函数  用来显示文件读写指针的当前位置\n",
    "with open(r'test01.txt', 'r') as f:\n",
    "    strChar = f.read(3)\n",
    "    pos = f.tell()\n",
    "    \n",
    "    while strChar:\n",
    "        print(pos)\n",
    "        print(strChar)\n",
    "        \n",
    "        strChar = f.read(3)\n",
    "        pos = f.tell()"
   ]
  },
  {
   "cell_type": "markdown",
   "metadata": {},
   "source": [
    "# 文件的写操作-write\n",
    "- write(str):把字符串按行写入文件\n",
    "- writeline(str):把字符串按行写入文件\n",
    "- write函数参数只能是字符串\n",
    "- writeline参数可以是字符串,也可以是字符序列(list)\n"
   ]
  },
  {
   "cell_type": "markdown",
   "metadata": {},
   "source": [
    "# 持久化  pickle\n",
    "- 序列化(持久化,落地):把程序运行中的信息保存在磁盘上\n",
    "- 反序列话  序列好的逆过程\n",
    "- pickle  python提供的序列化模块\n",
    "- pickle.dump  序列化\n",
    "- pick.load  反序列化"
   ]
  },
  {
   "cell_type": "code",
   "execution_count": 16,
   "metadata": {
    "collapsed": true
   },
   "outputs": [],
   "source": [
    "import pickle\n",
    "\n",
    "age = 19\n",
    "\n",
    "with open(r'test01.txt','wb') as f:\n",
    "    pickle.dump(age,f)"
   ]
  },
  {
   "cell_type": "markdown",
   "metadata": {},
   "source": [
    "# 持久化-shelve\n",
    "- 持久化工具\n",
    "- 类似字典,用kv对保存数据,存取方式和字典也类似\n",
    "- open close\n",
    "# shelve特性\n",
    "- 不支持多个应用并行写入\n",
    "  - 为了解决问题,open的时候可以使用flag=r\n",
    "- 写回问题\n",
    "  - shelve默认情况下不会等待持久化对象进行任何修改\n",
    "  - 解决方法:强制写回: writeback=True"
   ]
  },
  {
   "cell_type": "code",
   "execution_count": null,
   "metadata": {
    "collapsed": true
   },
   "outputs": [],
   "source": []
  },
  {
   "cell_type": "code",
   "execution_count": null,
   "metadata": {
    "collapsed": true
   },
   "outputs": [],
   "source": []
  },
  {
   "cell_type": "code",
   "execution_count": null,
   "metadata": {
    "collapsed": true
   },
   "outputs": [],
   "source": []
  },
  {
   "cell_type": "code",
   "execution_count": null,
   "metadata": {
    "collapsed": true
   },
   "outputs": [],
   "source": []
  },
  {
   "cell_type": "code",
   "execution_count": null,
   "metadata": {
    "collapsed": true
   },
   "outputs": [],
   "source": []
  },
  {
   "cell_type": "code",
   "execution_count": null,
   "metadata": {
    "collapsed": true
   },
   "outputs": [],
   "source": []
  },
  {
   "cell_type": "code",
   "execution_count": null,
   "metadata": {
    "collapsed": true
   },
   "outputs": [],
   "source": []
  }
 ],
 "metadata": {
  "kernelspec": {
   "display_name": "Python 3",
   "language": "python",
   "name": "python3"
  },
  "language_info": {
   "codemirror_mode": {
    "name": "ipython",
    "version": 3
   },
   "file_extension": ".py",
   "mimetype": "text/x-python",
   "name": "python",
   "nbconvert_exporter": "python",
   "pygments_lexer": "ipython3",
   "version": "3.6.3"
  }
 },
 "nbformat": 4,
 "nbformat_minor": 2
}
