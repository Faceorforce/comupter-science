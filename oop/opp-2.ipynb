{
 "cells": [
  {
   "cell_type": "code",
   "execution_count": null,
   "metadata": {},
   "outputs": [
    {
     "name": "stdout",
     "output_type": "stream",
     "text": [
      "aaa\n",
      "200\n",
      "aaa\n",
      "200\n",
      "lianghao\n",
      "18\n",
      "bbbb\n",
      "90\n"
     ]
    }
   ],
   "source": [
    "#  关于self的案例\n",
    "\n",
    "class A():\n",
    "    name = \"lianghao\"\n",
    "    age = 18\n",
    "    \n",
    "    def __init__(self):\n",
    "        self.name = \"aaa\"\n",
    "        self.age = 200\n",
    "    \n",
    "    def say(self):\n",
    "        print(self.name)\n",
    "        print(self.age)\n",
    "        \n",
    "class B():\n",
    "    name = \"bbbb\"\n",
    "    age = 90\n",
    "    \n",
    "a = A()\n",
    "# 此时,系统会默认把a作为第一个参数传入函数\n",
    "a.say()\n",
    "# 此时,self被a替换\n",
    "A.say(a)\n",
    "\n",
    "# 同样,可以把A作为参数传入\n",
    "A.say(A)\n",
    "# 此时,传入的是示例B,因为B具有name和age属性,所以不会报错\n",
    "A.say(B)\n",
    "# 以上代码,利用了鸭子模型"
   ]
  },
  {
   "cell_type": "code",
   "execution_count": 3,
   "metadata": {},
   "outputs": [
    {
     "name": "stdout",
     "output_type": "stream",
     "text": [
      "noname\n",
      "noname\n"
     ]
    }
   ],
   "source": [
    "# 继承的语法\n",
    "# 在python中,任何类都有一个共同的父类叫object\n",
    "class person():\n",
    "    name = \"noname\"\n",
    "    age = 0\n",
    "    def sleep(self):\n",
    "        print(\"sleeping....\")\n",
    "        \n",
    "#父类写在括号内\n",
    "class Teacher(person):\n",
    "    pass\n",
    "\n",
    "t = Teacher()\n",
    "print(t.name)\n",
    "print(Teacher.name)"
   ]
  },
  {
   "cell_type": "code",
   "execution_count": 4,
   "metadata": {},
   "outputs": [
    {
     "name": "stdout",
     "output_type": "stream",
     "text": [
      "I am init in dog\n"
     ]
    }
   ],
   "source": [
    "# 构造函数的定义\n",
    "\n",
    "class Dog():\n",
    "    #__init__就是构造函数\n",
    "    # 每次实例化时第一个被调用\n",
    "    # 因为主要工作是进行初始化,所以得名\n",
    "    def __init__(self):\n",
    "        print(\"I am init in dog\")\n",
    "        \n",
    "kaka = Dog()"
   ]
  },
  {
   "cell_type": "code",
   "execution_count": 6,
   "metadata": {},
   "outputs": [
    {
     "name": "stdout",
     "output_type": "stream",
     "text": [
      "<class 'type'>\n",
      "Help on class super in module builtins:\n",
      "\n",
      "class super(object)\n",
      " |  super() -> same as super(__class__, <first argument>)\n",
      " |  super(type) -> unbound super object\n",
      " |  super(type, obj) -> bound super object; requires isinstance(obj, type)\n",
      " |  super(type, type2) -> bound super object; requires issubclass(type2, type)\n",
      " |  Typical use to call a cooperative superclass method:\n",
      " |  class C(B):\n",
      " |      def meth(self, arg):\n",
      " |          super().meth(arg)\n",
      " |  This works for class methods too:\n",
      " |  class C(B):\n",
      " |      @classmethod\n",
      " |      def cmeth(cls, arg):\n",
      " |          super().cmeth(arg)\n",
      " |  \n",
      " |  Methods defined here:\n",
      " |  \n",
      " |  __get__(self, instance, owner, /)\n",
      " |      Return an attribute of instance, which is of type owner.\n",
      " |  \n",
      " |  __getattribute__(self, name, /)\n",
      " |      Return getattr(self, name).\n",
      " |  \n",
      " |  __init__(self, /, *args, **kwargs)\n",
      " |      Initialize self.  See help(type(self)) for accurate signature.\n",
      " |  \n",
      " |  __new__(*args, **kwargs) from builtins.type\n",
      " |      Create and return a new object.  See help(type) for accurate signature.\n",
      " |  \n",
      " |  __repr__(self, /)\n",
      " |      Return repr(self).\n",
      " |  \n",
      " |  ----------------------------------------------------------------------\n",
      " |  Data descriptors defined here:\n",
      " |  \n",
      " |  __self__\n",
      " |      the instance invoking super(); may be None\n",
      " |  \n",
      " |  __self_class__\n",
      " |      the type of the instance invoking super(); may be None\n",
      " |  \n",
      " |  __thisclass__\n",
      " |      the class invoking super()\n",
      "\n"
     ]
    }
   ],
   "source": [
    "print(type(super))\n",
    "help(super)"
   ]
  },
  {
   "cell_type": "code",
   "execution_count": 20,
   "metadata": {},
   "outputs": [
    {
     "name": "stdout",
     "output_type": "stream",
     "text": [
      "iam flying\n",
      "i am swimming...\n"
     ]
    }
   ],
   "source": [
    "# 多继承的例子\n",
    "# 子类可以直接\n",
    "class fish():\n",
    "    def __init__(self,name):\n",
    "        self.name = name\n",
    "    \n",
    "    def swim(self):\n",
    "        print(\"i am swimming...\")\n",
    "    \n",
    "class bird():\n",
    "    def __init__(self,name):\n",
    "        self.name = name\n",
    "   \n",
    "    def fly(self):\n",
    "        print(\"iam flying\")\n",
    "        \n",
    "class person():\n",
    "    def __init__(self,name):\n",
    "        self.name = name\n",
    "        \n",
    "    def work(self):\n",
    "        print(\"working\")\n",
    "        \n",
    "class superman(person,bird,fish):\n",
    "    def __init__(self,name):\n",
    "        self.name = name\n",
    "        \n",
    "   \n",
    "         \n",
    "s = superman(\"yueyue\")\n",
    "s.fly()\n",
    "s.swim()"
   ]
  },
  {
   "cell_type": "code",
   "execution_count": 21,
   "metadata": {
    "collapsed": true
   },
   "outputs": [],
   "source": [
    "# 菱形继承问题\n",
    "class A():\n",
    "    pass\n",
    "class B():\n",
    "    pass\n",
    "class C():\n",
    "    pass\n",
    "class D(B,C):\n",
    "    pass"
   ]
  },
  {
   "cell_type": "code",
   "execution_count": 23,
   "metadata": {},
   "outputs": [
    {
     "name": "stdout",
     "output_type": "stream",
     "text": [
      "in init func\n"
     ]
    }
   ],
   "source": [
    "# 构造函数\n",
    "\n",
    "class person():\n",
    "    def __init__(self):\n",
    "        self.name = \"noname\"\n",
    "        self.age = 18\n",
    "        self.address = \"home\"\n",
    "        print(\"in init func\")\n",
    "        \n",
    "p = person()"
   ]
  },
  {
   "cell_type": "code",
   "execution_count": 1,
   "metadata": {},
   "outputs": [
    {
     "ename": "IndentationError",
     "evalue": "unexpected indent (<ipython-input-1-fabef1b1be8f>, line 2)",
     "traceback": [
      "\u001b[0;36m  File \u001b[0;32m\"<ipython-input-1-fabef1b1be8f>\"\u001b[0;36m, line \u001b[0;32m2\u001b[0m\n\u001b[0;31m    class person():\u001b[0m\n\u001b[0m    ^\u001b[0m\n\u001b[0;31mIndentationError\u001b[0m\u001b[0;31m:\u001b[0m unexpected indent\n"
     ],
     "output_type": "error"
    }
   ],
   "source": [
    "# Mixin案例\n",
    "     class person():\n",
    "        "
   ]
  },
  {
   "cell_type": "code",
   "execution_count": 5,
   "metadata": {},
   "outputs": [
    {
     "name": "stdout",
     "output_type": "stream",
     "text": [
      "True\n",
      "False\n",
      "True\n"
     ]
    }
   ],
   "source": [
    "# issubclass\n",
    "class A():\n",
    "    pass\n",
    "\n",
    "class B(A):\n",
    "    pass\n",
    "\n",
    "class C():\n",
    "    pass\n",
    "\n",
    "print(issubclass(B,A))\n",
    "print(issubclass(C,A))\n",
    "print(issubclass(B,object))"
   ]
  },
  {
   "cell_type": "code",
   "execution_count": 8,
   "metadata": {},
   "outputs": [
    {
     "name": "stdout",
     "output_type": "stream",
     "text": [
      "True\n",
      "False\n"
     ]
    }
   ],
   "source": [
    "# isintance\n",
    "class A():\n",
    "    pass\n",
    "    \n",
    "    \n",
    "a = A()\n",
    "\n",
    "print(isinstance(a,A))\n",
    "print(isinstance(A,A))"
   ]
  },
  {
   "cell_type": "code",
   "execution_count": 11,
   "metadata": {},
   "outputs": [
    {
     "name": "stdout",
     "output_type": "stream",
     "text": [
      "True\n",
      "False\n"
     ]
    }
   ],
   "source": [
    "# hasattr\n",
    "class A():\n",
    "    name = \"naname\"\n",
    "    \n",
    "a =A\n",
    "print(hasattr(a,\"name\"))\n",
    "print(hasattr(a,\"age\"))"
   ]
  },
  {
   "cell_type": "code",
   "execution_count": 13,
   "metadata": {},
   "outputs": [
    {
     "data": {
      "text/plain": [
       "['__class__',\n",
       " '__delattr__',\n",
       " '__dict__',\n",
       " '__dir__',\n",
       " '__doc__',\n",
       " '__eq__',\n",
       " '__format__',\n",
       " '__ge__',\n",
       " '__getattribute__',\n",
       " '__gt__',\n",
       " '__hash__',\n",
       " '__init__',\n",
       " '__init_subclass__',\n",
       " '__le__',\n",
       " '__lt__',\n",
       " '__module__',\n",
       " '__ne__',\n",
       " '__new__',\n",
       " '__reduce__',\n",
       " '__reduce_ex__',\n",
       " '__repr__',\n",
       " '__setattr__',\n",
       " '__sizeof__',\n",
       " '__str__',\n",
       " '__subclasshook__',\n",
       " '__weakref__']"
      ]
     },
     "execution_count": 13,
     "metadata": {},
     "output_type": "execute_result"
    }
   ],
   "source": [
    "# dir\n",
    "class A():\n",
    "    pass\n",
    "\n",
    "dir(A)\n",
    "a = A\n",
    "dir(a)"
   ]
  },
  {
   "cell_type": "code",
   "execution_count": 14,
   "metadata": {
    "collapsed": true
   },
   "outputs": [],
   "source": [
    "# 属性案例\n",
    "# 创建student类,描述学生\n",
    "# 学生具有student.name属性\n",
    "# 但name格式不统一\n",
    "class Student():\n",
    "    def __init__(self,name,age):\n",
    "        self,name = age\n",
    "        self,name = age\n",
    "        \n",
    "        # 介绍下自己\n",
    "        def intro(self):\n",
    "            print(\"\")"
   ]
  },
  {
   "cell_type": "code",
   "execution_count": 34,
   "metadata": {
    "collapsed": true
   },
   "outputs": [],
   "source": [
    "# peroperty\n",
    "# 定义一个person类,具有name,age属性\n",
    "# 对于任意输入的姓名,我们都希望用大写方式保存\n",
    "# 年龄,我们希望内部统一用整数保存\n",
    "# x = property(fget,fset,fdel,doc)\n",
    "class Person():\n",
    "    '''\n",
    "    这是一个人\n",
    "    '''\n",
    "    def fget(self):\n",
    "        return self._name * 2\n",
    "    \n",
    "    def fset(self,name):\n",
    "        # 所有输入姓名以大写形式保存\n",
    "        self._name = name.upper()\n",
    "        \n",
    "    def fdel(self):\n",
    "        self._name = \"NoName\"\n",
    "        \n",
    "    name = property(fget,fset,fdel,\"对name进行下操作\")\n",
    "    "
   ]
  },
  {
   "cell_type": "code",
   "execution_count": 35,
   "metadata": {},
   "outputs": [
    {
     "name": "stdout",
     "output_type": "stream",
     "text": [
      "TULINGTULING\n"
     ]
    }
   ],
   "source": [
    "p1 = Person()\n",
    "p1.name = \"TuLing\"\n",
    "print(p1.name)"
   ]
  },
  {
   "cell_type": "code",
   "execution_count": 38,
   "metadata": {},
   "outputs": [
    {
     "name": "stdout",
     "output_type": "stream",
     "text": [
      "{'__module__': '__main__', '__doc__': '\\n    这是一个人\\n    ', 'fget': <function Person.fget at 0x7f1b11f3f488>, 'fset': <function Person.fset at 0x7f1b11f3f400>, 'fdel': <function Person.fdel at 0x7f1b11f3f378>, 'name': <property object at 0x7f1b11f59098>, '__dict__': <attribute '__dict__' of 'Person' objects>, '__weakref__': <attribute '__weakref__' of 'Person' objects>}\n",
      "\n",
      "    这是一个人\n",
      "    \n",
      "Person\n",
      "(<class 'object'>,)\n"
     ]
    }
   ],
   "source": [
    "# 类的内置属性\n",
    "print(Person.__dict__)\n",
    "print(Person.__doc__)\n",
    "print(Person.__name__)\n",
    "print(Person.__bases__)"
   ]
  },
  {
   "cell_type": "code",
   "execution_count": 40,
   "metadata": {},
   "outputs": [
    {
     "name": "stdout",
     "output_type": "stream",
     "text": [
      "哈哈,我被调用了\n",
      "我被调用了\n"
     ]
    }
   ],
   "source": [
    "# init举例\n",
    "class A():\n",
    "    def __init__(self,name = 0):\n",
    "        print(\"哈哈,我被调用了\")\n",
    "        \n",
    "    def __call__(self):\n",
    "        print(\"我被调用了\")\n",
    "        \n",
    "        \n",
    "a = A()\n",
    "a()\n",
    "                                "
   ]
  },
  {
   "cell_type": "code",
   "execution_count": 41,
   "metadata": {},
   "outputs": [
    {
     "ename": "SyntaxError",
     "evalue": "invalid syntax (<ipython-input-41-cef79152fdc3>, line 7)",
     "traceback": [
      "\u001b[0;36m  File \u001b[0;32m\"<ipython-input-41-cef79152fdc3>\"\u001b[0;36m, line \u001b[0;32m7\u001b[0m\n\u001b[0;31m    print(\"设置属性\":\"{0}\".format())\u001b[0m\n\u001b[0m                ^\u001b[0m\n\u001b[0;31mSyntaxError\u001b[0m\u001b[0;31m:\u001b[0m invalid syntax\n"
     ],
     "output_type": "error"
    }
   ],
   "source": [
    "# __setattr__案例\n",
    "class Person():\n",
    "    def __init__():\n",
    "        pass\n",
    "    \n",
    "    def __setattr__(self,name,value):\n",
    "        print(\"设置属性\":\"{0}\".format())\n",
    "    \n"
   ]
  },
  {
   "cell_type": "code",
   "execution_count": 52,
   "metadata": {},
   "outputs": [
    {
     "name": "stdout",
     "output_type": "stream",
     "text": [
      "<__main__.Person object at 0x7f1b11f12d68>\n",
      "Eating...\n",
      "<class '__main__.Person'>\n",
      "Playing..\n",
      "<class '__main__.Person'>\n",
      "Playing..\n",
      "Saying..\n",
      "Saying..\n"
     ]
    }
   ],
   "source": [
    "# 三种方法的案例\n",
    "class Person :\n",
    "    #示例方法\n",
    "    def eat(self):\n",
    "        print(self)\n",
    "        print(\"Eating...\")\n",
    "        \n",
    "    #类方法\n",
    "    #类方法的第一个参数,一般命名为cls,区别与self\n",
    "    @classmethod\n",
    "    def play(cls):\n",
    "        print(cls)\n",
    "        print(\"Playing..\")\n",
    "            \n",
    "    #静态方法\n",
    "    #不需要第一个参数表示自身或类\n",
    "    @staticmethod\n",
    "    def say():\n",
    "        print(\"Saying..\")\n",
    "            \n",
    "yueyue = Person()\n",
    "\n",
    "#实例方法\n",
    "yueyue.eat()\n",
    "#类方法\n",
    "Person.play()\n",
    "yueyue.play()\n",
    "#静态方法\n",
    "Person.say()\n",
    "yueyue.say()"
   ]
  },
  {
   "cell_type": "code",
   "execution_count": 3,
   "metadata": {
    "collapsed": true
   },
   "outputs": [],
   "source": [
    "# 类属性property\n",
    "# 应用场景\n",
    "class A():\n",
    "    def __init__(self):\n",
    "        self.name = \"haha\"\n",
    "        self.age = 18\n",
    "        def fget (self):\n",
    "            print(\"wobeiduquel\")\n",
    "            return self,name\n",
    "    def fset(self,name):\n",
    "        print(\"more\")\n",
    "        self.name = \"tulingxueyuan\" + name\n",
    "        \n",
    "        "
   ]
  },
  {
   "cell_type": "code",
   "execution_count": 1,
   "metadata": {},
   "outputs": [
    {
     "ename": "SyntaxError",
     "evalue": "invalid syntax (<ipython-input-1-dcaaef6d676b>, line 5)",
     "traceback": [
      "\u001b[0;36m  File \u001b[0;32m\"<ipython-input-1-dcaaef6d676b>\"\u001b[0;36m, line \u001b[0;32m5\u001b[0m\n\u001b[0;31m    class Human(metaclass=abc.ABCMeat)\u001b[0m\n\u001b[0m                                      ^\u001b[0m\n\u001b[0;31mSyntaxError\u001b[0m\u001b[0;31m:\u001b[0m invalid syntax\n"
     ],
     "output_type": "error"
    }
   ],
   "source": [
    "# 抽象类的实现\n",
    "\n",
    "import abc\n",
    "#声明7一个类并且指定当前类的元类\n",
    "class Human(metaclass=abc.ABCMeat)\n"
   ]
  },
  {
   "cell_type": "code",
   "execution_count": 10,
   "metadata": {},
   "outputs": [
    {
     "name": "stdout",
     "output_type": "stream",
     "text": [
      "saying...\n",
      "saying...\n"
     ]
    }
   ],
   "source": [
    "#自己组装一个类\n",
    "\n",
    "class A():\n",
    "    pass\n",
    "\n",
    "def say(self):\n",
    "    print(\"saying...\")\n",
    "    \n",
    "say(1)\n",
    "\n",
    "A.say = say\n",
    "\n",
    "a = A()\n",
    "a.say()"
   ]
  },
  {
   "cell_type": "code",
   "execution_count": 21,
   "metadata": {},
   "outputs": [],
   "source": [
    "# 元类写法是固定的,必须继承子type\n",
    "#元类命名一般以Metaclass结尾\n",
    "class tulingMetaclass(type):\n",
    "    def __new__(cls,name,bases,attrs):\n",
    "        \n",
    "        return type.__new__(cls,name,bases,attrs)\n",
    "class teacher(object,metaclass=tulingMetaclass):\n",
    "    pass\n",
    "\n",
    "t =teacher()\n",
    "\n"
   ]
  },
  {
   "cell_type": "code",
   "execution_count": null,
   "metadata": {
    "collapsed": true
   },
   "outputs": [],
   "source": []
  }
 ],
 "metadata": {
  "kernelspec": {
   "display_name": "Python 3",
   "language": "python",
   "name": "python3"
  },
  "language_info": {
   "codemirror_mode": {
    "name": "ipython",
    "version": 3
   },
   "file_extension": ".py",
   "mimetype": "text/x-python",
   "name": "python",
   "nbconvert_exporter": "python",
   "pygments_lexer": "ipython3",
   "version": "3.6.3"
  }
 },
 "nbformat": 4,
 "nbformat_minor": 1
}
