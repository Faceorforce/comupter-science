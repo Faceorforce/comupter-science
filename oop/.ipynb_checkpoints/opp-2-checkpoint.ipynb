{
 "cells": [
  {
   "cell_type": "code",
   "execution_count": null,
   "metadata": {},
   "outputs": [
    {
     "name": "stdout",
     "output_type": "stream",
     "text": [
      "aaa\n",
      "200\n",
      "aaa\n",
      "200\n",
      "lianghao\n",
      "18\n",
      "bbbb\n",
      "90\n"
     ]
    }
   ],
   "source": [
    "#  关于self的案例\n",
    "\n",
    "class A():\n",
    "    name = \"lianghao\"\n",
    "    age = 18\n",
    "    \n",
    "    def __init__(self):\n",
    "        self.name = \"aaa\"\n",
    "        self.age = 200\n",
    "    \n",
    "    def say(self):\n",
    "        print(self.name)\n",
    "        print(self.age)\n",
    "        \n",
    "class B():\n",
    "    name = \"bbbb\"\n",
    "    age = 90\n",
    "    \n",
    "a = A()\n",
    "# 此时,系统会默认把a作为第一个参数传入函数\n",
    "a.say()\n",
    "# 此时,self被a替换\n",
    "A.say(a)\n",
    "\n",
    "# 同样,可以把A作为参数传入\n",
    "A.say(A)\n",
    "# 此时,传入的是示例B,因为B具有name和age属性,所以不会报错\n",
    "A.say(B)\n",
    "# 以上代码,利用了鸭子模型"
   ]
  },
  {
   "cell_type": "code",
   "execution_count": 3,
   "metadata": {},
   "outputs": [
    {
     "name": "stdout",
     "output_type": "stream",
     "text": [
      "noname\n",
      "noname\n"
     ]
    }
   ],
   "source": [
    "# 继承的语法\n",
    "# 在python中,任何类都有一个共同的父类叫object\n",
    "class person():\n",
    "    name = \"noname\"\n",
    "    age = 0\n",
    "    def sleep(self):\n",
    "        print(\"sleeping....\")\n",
    "        \n",
    "#父类写在括号内\n",
    "class Teacher(person):\n",
    "    pass\n",
    "\n",
    "t = Teacher()\n",
    "print(t.name)\n",
    "print(Teacher.name)"
   ]
  },
  {
   "cell_type": "code",
   "execution_count": 4,
   "metadata": {},
   "outputs": [
    {
     "name": "stdout",
     "output_type": "stream",
     "text": [
      "I am init in dog\n"
     ]
    }
   ],
   "source": [
    "# 构造函数的定义\n",
    "\n",
    "class Dog():\n",
    "    #__init__就是构造函数\n",
    "    # 每次实例化时第一个被调用\n",
    "    # 因为主要工作是进行初始化,所以得名\n",
    "    def __init__(self):\n",
    "        print(\"I am init in dog\")\n",
    "        \n",
    "kaka = Dog()"
   ]
  },
  {
   "cell_type": "code",
   "execution_count": 6,
   "metadata": {},
   "outputs": [
    {
     "name": "stdout",
     "output_type": "stream",
     "text": [
      "<class 'type'>\n",
      "Help on class super in module builtins:\n",
      "\n",
      "class super(object)\n",
      " |  super() -> same as super(__class__, <first argument>)\n",
      " |  super(type) -> unbound super object\n",
      " |  super(type, obj) -> bound super object; requires isinstance(obj, type)\n",
      " |  super(type, type2) -> bound super object; requires issubclass(type2, type)\n",
      " |  Typical use to call a cooperative superclass method:\n",
      " |  class C(B):\n",
      " |      def meth(self, arg):\n",
      " |          super().meth(arg)\n",
      " |  This works for class methods too:\n",
      " |  class C(B):\n",
      " |      @classmethod\n",
      " |      def cmeth(cls, arg):\n",
      " |          super().cmeth(arg)\n",
      " |  \n",
      " |  Methods defined here:\n",
      " |  \n",
      " |  __get__(self, instance, owner, /)\n",
      " |      Return an attribute of instance, which is of type owner.\n",
      " |  \n",
      " |  __getattribute__(self, name, /)\n",
      " |      Return getattr(self, name).\n",
      " |  \n",
      " |  __init__(self, /, *args, **kwargs)\n",
      " |      Initialize self.  See help(type(self)) for accurate signature.\n",
      " |  \n",
      " |  __new__(*args, **kwargs) from builtins.type\n",
      " |      Create and return a new object.  See help(type) for accurate signature.\n",
      " |  \n",
      " |  __repr__(self, /)\n",
      " |      Return repr(self).\n",
      " |  \n",
      " |  ----------------------------------------------------------------------\n",
      " |  Data descriptors defined here:\n",
      " |  \n",
      " |  __self__\n",
      " |      the instance invoking super(); may be None\n",
      " |  \n",
      " |  __self_class__\n",
      " |      the type of the instance invoking super(); may be None\n",
      " |  \n",
      " |  __thisclass__\n",
      " |      the class invoking super()\n",
      "\n"
     ]
    }
   ],
   "source": [
    "print(type(super))\n",
    "help(super)"
   ]
  },
  {
   "cell_type": "code",
   "execution_count": 20,
   "metadata": {},
   "outputs": [
    {
     "name": "stdout",
     "output_type": "stream",
     "text": [
      "iam flying\n",
      "i am swimming...\n"
     ]
    }
   ],
   "source": [
    "# 多继承的例子\n",
    "# 子类可以直接\n",
    "class fish():\n",
    "    def __init__(self,name):\n",
    "        self.name = name\n",
    "    \n",
    "    def swim(self):\n",
    "        print(\"i am swimming...\")\n",
    "    \n",
    "class bird():\n",
    "    def __init__(self,name):\n",
    "        self.name = name\n",
    "   \n",
    "    def fly(self):\n",
    "        print(\"iam flying\")\n",
    "        \n",
    "class person():\n",
    "    def __init__(self,name):\n",
    "        self.name = name\n",
    "        \n",
    "    def work(self):\n",
    "        print(\"working\")\n",
    "        \n",
    "class superman(person,bird,fish):\n",
    "    def __init__(self,name):\n",
    "        self.name = name\n",
    "        \n",
    "   \n",
    "         \n",
    "s = superman(\"yueyue\")\n",
    "s.fly()\n",
    "s.swim()"
   ]
  },
  {
   "cell_type": "code",
   "execution_count": null,
   "metadata": {
    "collapsed": true
   },
   "outputs": [],
   "source": []
  }
 ],
 "metadata": {
  "kernelspec": {
   "display_name": "Python 3",
   "language": "python",
   "name": "python3"
  },
  "language_info": {
   "codemirror_mode": {
    "name": "ipython",
    "version": 3
   },
   "file_extension": ".py",
   "mimetype": "text/x-python",
   "name": "python",
   "nbconvert_exporter": "python",
   "pygments_lexer": "ipython3",
   "version": "3.6.3"
  }
 },
 "nbformat": 4,
 "nbformat_minor": 1
}
